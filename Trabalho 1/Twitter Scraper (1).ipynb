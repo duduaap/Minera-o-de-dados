{
 "cells": [
  {
   "cell_type": "code",
   "execution_count": 27,
   "id": "5e44e9e6-ebee-412b-b9bf-64688e852440",
   "metadata": {},
   "outputs": [],
   "source": [
    "import csv\n",
    "from getpass import getpass\n",
    "from time import sleep\n",
    "from selenium.webdriver.common.keys import Keys\n",
    "from selenium.common.exceptions import NoSuchElementException\n",
    "from msedge.selenium_tools import Edge, EdgeOptions\n",
    "from selenium.webdriver.common.by import By\n",
    "from selenium.webdriver.support import expected_conditions\n",
    "from selenium.common import exceptions"
   ]
  },
  {
   "cell_type": "code",
   "execution_count": 17,
   "id": "fc645244-59f6-4c05-9695-cca55a0c26de",
   "metadata": {},
   "outputs": [],
   "source": [
    "options = EdgeOptions()\n",
    "options.use_chromium = True\n",
    "driver = Edge(options=options)"
   ]
  },
  {
   "cell_type": "code",
   "execution_count": 18,
   "id": "f376a10b-ca19-4cb6-b482-ae06ac6f749c",
   "metadata": {},
   "outputs": [],
   "source": [
    "driver.get('https://www.twitter.com/login')\n",
    "#acessa o twitter"
   ]
  },
  {
   "cell_type": "code",
   "execution_count": 19,
   "id": "f5caf411-e844-4160-8cf1-437ef43314bc",
   "metadata": {},
   "outputs": [],
   "source": [
    "username =  driver.find_element(By.XPATH,'//label/div/div[2]/div/input')\n",
    "username.send_keys('edardu@hotmail.com')\n",
    "#passa parametro email"
   ]
  },
  {
   "cell_type": "code",
   "execution_count": 20,
   "id": "d11e83f0-4dc9-4b49-8a02-75559e7a18dd",
   "metadata": {},
   "outputs": [],
   "source": [
    "username.send_keys(Keys.RETURN)\n"
   ]
  },
  {
   "cell_type": "code",
   "execution_count": 21,
   "id": "0a0ddfab-1bce-4c07-b427-5c07140bc15e",
   "metadata": {},
   "outputs": [],
   "source": [
    "nameuser = driver.find_element(By.XPATH,'//label/div/div[2]/div/input')\n",
    "nameuser.send_keys('eduardoalc1')\n",
    "#passa parametro username"
   ]
  },
  {
   "cell_type": "code",
   "execution_count": 22,
   "id": "b1cef8d5-171a-408e-8125-d2227a91c198",
   "metadata": {},
   "outputs": [],
   "source": [
    "nameuser.send_keys(Keys.RETURN)"
   ]
  },
  {
   "cell_type": "code",
   "execution_count": 27,
   "id": "3dc03a8d-530d-4444-9a6d-467ab47945e5",
   "metadata": {
    "tags": []
   },
   "outputs": [
    {
     "name": "stdin",
     "output_type": "stream",
     "text": [
      " ···········\n"
     ]
    }
   ],
   "source": [
    "my_password = getpass()"
   ]
  },
  {
   "cell_type": "code",
   "execution_count": 32,
   "id": "fa30234c-b951-4a7b-8ecd-0bfb70c4766f",
   "metadata": {
    "tags": []
   },
   "outputs": [
    {
     "ename": "ElementNotInteractableException",
     "evalue": "Message: element not interactable\n  (Session info: MicrosoftEdge=96.0.1054.43)\nStacktrace:\nBacktrace:\n\tMicrosoft::Applications::Events::ILogConfiguration::ILogConfiguration [0x00007FF67553CD22+56946]\n\tMicrosoft::Applications::Events::EventProperty::to_string [0x00007FF675169C77+947527]\n\tMicrosoft::Applications::Events::EventProperty::to_string [0x00007FF67519F09E+1165678]\n\tMicrosoft::Applications::Events::EventProperty::to_string [0x00007FF67519E38C+1162332]\n\tMicrosoft::Applications::Events::EventProperty::to_string [0x00007FF6751C0D86+1304150]\n\tMicrosoft::Applications::Events::EventProperty::to_string [0x00007FF67519793D+1135117]\n\tMicrosoft::Applications::Events::EventProperty::to_string [0x00007FF6751C0EDC+1304492]\n\tMicrosoft::Applications::Events::EventProperty::to_string [0x00007FF6751D559D+1388141]\n\tMicrosoft::Applications::Events::EventProperty::to_string [0x00007FF6751C0BFF+1303759]\n\tMicrosoft::Applications::Events::EventProperty::to_string [0x00007FF6751962E9+1129401]\n\tMicrosoft::Applications::Events::EventProperty::to_string [0x00007FF6751973CF+1133727]\n\tMicrosoft::Applications::Events::EventProperty::to_string [0x00007FF67522BAB5+1741701]\n\tMicrosoft::Applications::Events::EventProperty::to_string [0x00007FF675229F41+1734673]\n\tMicrosoft::Applications::Events::EventProperty::EventProperty [0x00007FF67540ACD9+2521]\n\tMicrosoft::Applications::Events::EventProperty::to_string [0x00007FF6752018EE+1569214]\n\tMicrosoft::Applications::Events::ILogConfiguration::ILogConfiguration [0x00007FF67553592C+27260]\n\tMicrosoft::Applications::Events::ILogConfiguration::ILogConfiguration [0x00007FF6755352A4+25588]\n\tMicrosoft::Applications::Events::ILogConfiguration::ILogConfiguration [0x00007FF6755350F6+25158]\n\tMicrosoft::Applications::Events::EventProperties::GetName [0x00007FF67548FA9C+211724]\n\tBaseThreadInitThunk [0x00007FFF7B797034+20]\n\tRtlUserThreadStart [0x00007FFF7C6C2651+33]\n",
     "output_type": "error",
     "traceback": [
      "\u001b[1;31m---------------------------------------------------------------------------\u001b[0m",
      "\u001b[1;31mElementNotInteractableException\u001b[0m           Traceback (most recent call last)",
      "\u001b[1;32m~\\AppData\\Local\\Temp/ipykernel_17616/3742451605.py\u001b[0m in \u001b[0;36m<module>\u001b[1;34m\u001b[0m\n\u001b[0;32m      1\u001b[0m \u001b[0mpassword\u001b[0m \u001b[1;33m=\u001b[0m \u001b[0mdriver\u001b[0m\u001b[1;33m.\u001b[0m\u001b[0mfind_element\u001b[0m\u001b[1;33m(\u001b[0m\u001b[0mBy\u001b[0m\u001b[1;33m.\u001b[0m\u001b[0mXPATH\u001b[0m\u001b[1;33m,\u001b[0m\u001b[1;34m'//label/div/div[2]/div[1]/input'\u001b[0m\u001b[1;33m)\u001b[0m\u001b[1;33m\u001b[0m\u001b[1;33m\u001b[0m\u001b[0m\n\u001b[1;32m----> 2\u001b[1;33m \u001b[0mpassword\u001b[0m\u001b[1;33m.\u001b[0m\u001b[0msend_keys\u001b[0m\u001b[1;33m(\u001b[0m\u001b[0mmy_password\u001b[0m\u001b[1;33m)\u001b[0m\u001b[1;33m\u001b[0m\u001b[1;33m\u001b[0m\u001b[0m\n\u001b[0m\u001b[0;32m      3\u001b[0m \u001b[1;31m#passa parametro senha\u001b[0m\u001b[1;33m\u001b[0m\u001b[1;33m\u001b[0m\u001b[0m\n",
      "\u001b[1;32m~\\AppData\\Local\\Programs\\Python\\Python310\\lib\\site-packages\\selenium\\webdriver\\remote\\webelement.py\u001b[0m in \u001b[0;36msend_keys\u001b[1;34m(self, *value)\u001b[0m\n\u001b[0;32m    538\u001b[0m                 \u001b[0mvalue\u001b[0m \u001b[1;33m=\u001b[0m \u001b[1;34m'\\n'\u001b[0m\u001b[1;33m.\u001b[0m\u001b[0mjoin\u001b[0m\u001b[1;33m(\u001b[0m\u001b[0mremote_files\u001b[0m\u001b[1;33m)\u001b[0m\u001b[1;33m\u001b[0m\u001b[1;33m\u001b[0m\u001b[0m\n\u001b[0;32m    539\u001b[0m \u001b[1;33m\u001b[0m\u001b[0m\n\u001b[1;32m--> 540\u001b[1;33m         self._execute(Command.SEND_KEYS_TO_ELEMENT,\n\u001b[0m\u001b[0;32m    541\u001b[0m                       {'text': \"\".join(keys_to_typing(value)),\n\u001b[0;32m    542\u001b[0m                        'value': keys_to_typing(value)})\n",
      "\u001b[1;32m~\\AppData\\Local\\Programs\\Python\\Python310\\lib\\site-packages\\selenium\\webdriver\\remote\\webelement.py\u001b[0m in \u001b[0;36m_execute\u001b[1;34m(self, command, params)\u001b[0m\n\u001b[0;32m    708\u001b[0m             \u001b[0mparams\u001b[0m \u001b[1;33m=\u001b[0m \u001b[1;33m{\u001b[0m\u001b[1;33m}\u001b[0m\u001b[1;33m\u001b[0m\u001b[1;33m\u001b[0m\u001b[0m\n\u001b[0;32m    709\u001b[0m         \u001b[0mparams\u001b[0m\u001b[1;33m[\u001b[0m\u001b[1;34m'id'\u001b[0m\u001b[1;33m]\u001b[0m \u001b[1;33m=\u001b[0m \u001b[0mself\u001b[0m\u001b[1;33m.\u001b[0m\u001b[0m_id\u001b[0m\u001b[1;33m\u001b[0m\u001b[1;33m\u001b[0m\u001b[0m\n\u001b[1;32m--> 710\u001b[1;33m         \u001b[1;32mreturn\u001b[0m \u001b[0mself\u001b[0m\u001b[1;33m.\u001b[0m\u001b[0m_parent\u001b[0m\u001b[1;33m.\u001b[0m\u001b[0mexecute\u001b[0m\u001b[1;33m(\u001b[0m\u001b[0mcommand\u001b[0m\u001b[1;33m,\u001b[0m \u001b[0mparams\u001b[0m\u001b[1;33m)\u001b[0m\u001b[1;33m\u001b[0m\u001b[1;33m\u001b[0m\u001b[0m\n\u001b[0m\u001b[0;32m    711\u001b[0m \u001b[1;33m\u001b[0m\u001b[0m\n\u001b[0;32m    712\u001b[0m     \u001b[1;32mdef\u001b[0m \u001b[0mfind_element\u001b[0m\u001b[1;33m(\u001b[0m\u001b[0mself\u001b[0m\u001b[1;33m,\u001b[0m \u001b[0mby\u001b[0m\u001b[1;33m=\u001b[0m\u001b[0mBy\u001b[0m\u001b[1;33m.\u001b[0m\u001b[0mID\u001b[0m\u001b[1;33m,\u001b[0m \u001b[0mvalue\u001b[0m\u001b[1;33m=\u001b[0m\u001b[1;32mNone\u001b[0m\u001b[1;33m)\u001b[0m\u001b[1;33m:\u001b[0m\u001b[1;33m\u001b[0m\u001b[1;33m\u001b[0m\u001b[0m\n",
      "\u001b[1;32m~\\AppData\\Local\\Programs\\Python\\Python310\\lib\\site-packages\\selenium\\webdriver\\remote\\webdriver.py\u001b[0m in \u001b[0;36mexecute\u001b[1;34m(self, driver_command, params)\u001b[0m\n\u001b[0;32m    422\u001b[0m         \u001b[0mresponse\u001b[0m \u001b[1;33m=\u001b[0m \u001b[0mself\u001b[0m\u001b[1;33m.\u001b[0m\u001b[0mcommand_executor\u001b[0m\u001b[1;33m.\u001b[0m\u001b[0mexecute\u001b[0m\u001b[1;33m(\u001b[0m\u001b[0mdriver_command\u001b[0m\u001b[1;33m,\u001b[0m \u001b[0mparams\u001b[0m\u001b[1;33m)\u001b[0m\u001b[1;33m\u001b[0m\u001b[1;33m\u001b[0m\u001b[0m\n\u001b[0;32m    423\u001b[0m         \u001b[1;32mif\u001b[0m \u001b[0mresponse\u001b[0m\u001b[1;33m:\u001b[0m\u001b[1;33m\u001b[0m\u001b[1;33m\u001b[0m\u001b[0m\n\u001b[1;32m--> 424\u001b[1;33m             \u001b[0mself\u001b[0m\u001b[1;33m.\u001b[0m\u001b[0merror_handler\u001b[0m\u001b[1;33m.\u001b[0m\u001b[0mcheck_response\u001b[0m\u001b[1;33m(\u001b[0m\u001b[0mresponse\u001b[0m\u001b[1;33m)\u001b[0m\u001b[1;33m\u001b[0m\u001b[1;33m\u001b[0m\u001b[0m\n\u001b[0m\u001b[0;32m    425\u001b[0m             response['value'] = self._unwrap_value(\n\u001b[0;32m    426\u001b[0m                 response.get('value', None))\n",
      "\u001b[1;32m~\\AppData\\Local\\Programs\\Python\\Python310\\lib\\site-packages\\selenium\\webdriver\\remote\\errorhandler.py\u001b[0m in \u001b[0;36mcheck_response\u001b[1;34m(self, response)\u001b[0m\n\u001b[0;32m    245\u001b[0m                 \u001b[0malert_text\u001b[0m \u001b[1;33m=\u001b[0m \u001b[0mvalue\u001b[0m\u001b[1;33m[\u001b[0m\u001b[1;34m'alert'\u001b[0m\u001b[1;33m]\u001b[0m\u001b[1;33m.\u001b[0m\u001b[0mget\u001b[0m\u001b[1;33m(\u001b[0m\u001b[1;34m'text'\u001b[0m\u001b[1;33m)\u001b[0m\u001b[1;33m\u001b[0m\u001b[1;33m\u001b[0m\u001b[0m\n\u001b[0;32m    246\u001b[0m             \u001b[1;32mraise\u001b[0m \u001b[0mexception_class\u001b[0m\u001b[1;33m(\u001b[0m\u001b[0mmessage\u001b[0m\u001b[1;33m,\u001b[0m \u001b[0mscreen\u001b[0m\u001b[1;33m,\u001b[0m \u001b[0mstacktrace\u001b[0m\u001b[1;33m,\u001b[0m \u001b[0malert_text\u001b[0m\u001b[1;33m)\u001b[0m  \u001b[1;31m# type: ignore[call-arg]  # mypy is not smart enough here\u001b[0m\u001b[1;33m\u001b[0m\u001b[1;33m\u001b[0m\u001b[0m\n\u001b[1;32m--> 247\u001b[1;33m         \u001b[1;32mraise\u001b[0m \u001b[0mexception_class\u001b[0m\u001b[1;33m(\u001b[0m\u001b[0mmessage\u001b[0m\u001b[1;33m,\u001b[0m \u001b[0mscreen\u001b[0m\u001b[1;33m,\u001b[0m \u001b[0mstacktrace\u001b[0m\u001b[1;33m)\u001b[0m\u001b[1;33m\u001b[0m\u001b[1;33m\u001b[0m\u001b[0m\n\u001b[0m\u001b[0;32m    248\u001b[0m \u001b[1;33m\u001b[0m\u001b[0m\n\u001b[0;32m    249\u001b[0m     \u001b[1;32mdef\u001b[0m \u001b[0m_value_or_default\u001b[0m\u001b[1;33m(\u001b[0m\u001b[0mself\u001b[0m\u001b[1;33m,\u001b[0m \u001b[0mobj\u001b[0m\u001b[1;33m:\u001b[0m \u001b[0mMapping\u001b[0m\u001b[1;33m[\u001b[0m\u001b[0m_KT\u001b[0m\u001b[1;33m,\u001b[0m \u001b[0m_VT\u001b[0m\u001b[1;33m]\u001b[0m\u001b[1;33m,\u001b[0m \u001b[0mkey\u001b[0m\u001b[1;33m:\u001b[0m \u001b[0m_KT\u001b[0m\u001b[1;33m,\u001b[0m \u001b[0mdefault\u001b[0m\u001b[1;33m:\u001b[0m \u001b[0m_VT\u001b[0m\u001b[1;33m)\u001b[0m \u001b[1;33m->\u001b[0m \u001b[0m_VT\u001b[0m\u001b[1;33m:\u001b[0m\u001b[1;33m\u001b[0m\u001b[1;33m\u001b[0m\u001b[0m\n",
      "\u001b[1;31mElementNotInteractableException\u001b[0m: Message: element not interactable\n  (Session info: MicrosoftEdge=96.0.1054.43)\nStacktrace:\nBacktrace:\n\tMicrosoft::Applications::Events::ILogConfiguration::ILogConfiguration [0x00007FF67553CD22+56946]\n\tMicrosoft::Applications::Events::EventProperty::to_string [0x00007FF675169C77+947527]\n\tMicrosoft::Applications::Events::EventProperty::to_string [0x00007FF67519F09E+1165678]\n\tMicrosoft::Applications::Events::EventProperty::to_string [0x00007FF67519E38C+1162332]\n\tMicrosoft::Applications::Events::EventProperty::to_string [0x00007FF6751C0D86+1304150]\n\tMicrosoft::Applications::Events::EventProperty::to_string [0x00007FF67519793D+1135117]\n\tMicrosoft::Applications::Events::EventProperty::to_string [0x00007FF6751C0EDC+1304492]\n\tMicrosoft::Applications::Events::EventProperty::to_string [0x00007FF6751D559D+1388141]\n\tMicrosoft::Applications::Events::EventProperty::to_string [0x00007FF6751C0BFF+1303759]\n\tMicrosoft::Applications::Events::EventProperty::to_string [0x00007FF6751962E9+1129401]\n\tMicrosoft::Applications::Events::EventProperty::to_string [0x00007FF6751973CF+1133727]\n\tMicrosoft::Applications::Events::EventProperty::to_string [0x00007FF67522BAB5+1741701]\n\tMicrosoft::Applications::Events::EventProperty::to_string [0x00007FF675229F41+1734673]\n\tMicrosoft::Applications::Events::EventProperty::EventProperty [0x00007FF67540ACD9+2521]\n\tMicrosoft::Applications::Events::EventProperty::to_string [0x00007FF6752018EE+1569214]\n\tMicrosoft::Applications::Events::ILogConfiguration::ILogConfiguration [0x00007FF67553592C+27260]\n\tMicrosoft::Applications::Events::ILogConfiguration::ILogConfiguration [0x00007FF6755352A4+25588]\n\tMicrosoft::Applications::Events::ILogConfiguration::ILogConfiguration [0x00007FF6755350F6+25158]\n\tMicrosoft::Applications::Events::EventProperties::GetName [0x00007FF67548FA9C+211724]\n\tBaseThreadInitThunk [0x00007FFF7B797034+20]\n\tRtlUserThreadStart [0x00007FFF7C6C2651+33]\n"
     ]
    }
   ],
   "source": [
    "password = driver.find_element(By.XPATH,'//label/div/div[2]/div[1]/input')\n",
    "password.send_keys(my_password)\n",
    "#passa parametro senha"
   ]
  },
  {
   "cell_type": "code",
   "execution_count": 29,
   "id": "f208f1e3-20a4-467f-92c2-e93bb2a72c58",
   "metadata": {},
   "outputs": [
    {
     "ename": "ElementNotInteractableException",
     "evalue": "Message: element not interactable\n  (Session info: MicrosoftEdge=96.0.1054.43)\nStacktrace:\nBacktrace:\n\tMicrosoft::Applications::Events::ILogConfiguration::ILogConfiguration [0x00007FF67553CD22+56946]\n\tMicrosoft::Applications::Events::EventProperty::to_string [0x00007FF675169C77+947527]\n\tMicrosoft::Applications::Events::EventProperty::to_string [0x00007FF67519F09E+1165678]\n\tMicrosoft::Applications::Events::EventProperty::to_string [0x00007FF67519E38C+1162332]\n\tMicrosoft::Applications::Events::EventProperty::to_string [0x00007FF6751C0D86+1304150]\n\tMicrosoft::Applications::Events::EventProperty::to_string [0x00007FF67519793D+1135117]\n\tMicrosoft::Applications::Events::EventProperty::to_string [0x00007FF6751C0EDC+1304492]\n\tMicrosoft::Applications::Events::EventProperty::to_string [0x00007FF6751D559D+1388141]\n\tMicrosoft::Applications::Events::EventProperty::to_string [0x00007FF6751C0BFF+1303759]\n\tMicrosoft::Applications::Events::EventProperty::to_string [0x00007FF6751962E9+1129401]\n\tMicrosoft::Applications::Events::EventProperty::to_string [0x00007FF6751973CF+1133727]\n\tMicrosoft::Applications::Events::EventProperty::to_string [0x00007FF67522BAB5+1741701]\n\tMicrosoft::Applications::Events::EventProperty::to_string [0x00007FF675229F41+1734673]\n\tMicrosoft::Applications::Events::EventProperty::EventProperty [0x00007FF67540ACD9+2521]\n\tMicrosoft::Applications::Events::EventProperty::to_string [0x00007FF6752018EE+1569214]\n\tMicrosoft::Applications::Events::ILogConfiguration::ILogConfiguration [0x00007FF67553592C+27260]\n\tMicrosoft::Applications::Events::ILogConfiguration::ILogConfiguration [0x00007FF6755352A4+25588]\n\tMicrosoft::Applications::Events::ILogConfiguration::ILogConfiguration [0x00007FF6755350F6+25158]\n\tMicrosoft::Applications::Events::EventProperties::GetName [0x00007FF67548FA9C+211724]\n\tBaseThreadInitThunk [0x00007FFF7B797034+20]\n\tRtlUserThreadStart [0x00007FFF7C6C2651+33]\n",
     "output_type": "error",
     "traceback": [
      "\u001b[1;31m---------------------------------------------------------------------------\u001b[0m",
      "\u001b[1;31mElementNotInteractableException\u001b[0m           Traceback (most recent call last)",
      "\u001b[1;32m~\\AppData\\Local\\Temp/ipykernel_17616/347000282.py\u001b[0m in \u001b[0;36m<module>\u001b[1;34m\u001b[0m\n\u001b[1;32m----> 1\u001b[1;33m \u001b[0mpassword\u001b[0m\u001b[1;33m.\u001b[0m\u001b[0msend_keys\u001b[0m\u001b[1;33m(\u001b[0m\u001b[0mKeys\u001b[0m\u001b[1;33m.\u001b[0m\u001b[0mRETURN\u001b[0m\u001b[1;33m)\u001b[0m\u001b[1;33m\u001b[0m\u001b[1;33m\u001b[0m\u001b[0m\n\u001b[0m",
      "\u001b[1;32m~\\AppData\\Local\\Programs\\Python\\Python310\\lib\\site-packages\\selenium\\webdriver\\remote\\webelement.py\u001b[0m in \u001b[0;36msend_keys\u001b[1;34m(self, *value)\u001b[0m\n\u001b[0;32m    538\u001b[0m                 \u001b[0mvalue\u001b[0m \u001b[1;33m=\u001b[0m \u001b[1;34m'\\n'\u001b[0m\u001b[1;33m.\u001b[0m\u001b[0mjoin\u001b[0m\u001b[1;33m(\u001b[0m\u001b[0mremote_files\u001b[0m\u001b[1;33m)\u001b[0m\u001b[1;33m\u001b[0m\u001b[1;33m\u001b[0m\u001b[0m\n\u001b[0;32m    539\u001b[0m \u001b[1;33m\u001b[0m\u001b[0m\n\u001b[1;32m--> 540\u001b[1;33m         self._execute(Command.SEND_KEYS_TO_ELEMENT,\n\u001b[0m\u001b[0;32m    541\u001b[0m                       {'text': \"\".join(keys_to_typing(value)),\n\u001b[0;32m    542\u001b[0m                        'value': keys_to_typing(value)})\n",
      "\u001b[1;32m~\\AppData\\Local\\Programs\\Python\\Python310\\lib\\site-packages\\selenium\\webdriver\\remote\\webelement.py\u001b[0m in \u001b[0;36m_execute\u001b[1;34m(self, command, params)\u001b[0m\n\u001b[0;32m    708\u001b[0m             \u001b[0mparams\u001b[0m \u001b[1;33m=\u001b[0m \u001b[1;33m{\u001b[0m\u001b[1;33m}\u001b[0m\u001b[1;33m\u001b[0m\u001b[1;33m\u001b[0m\u001b[0m\n\u001b[0;32m    709\u001b[0m         \u001b[0mparams\u001b[0m\u001b[1;33m[\u001b[0m\u001b[1;34m'id'\u001b[0m\u001b[1;33m]\u001b[0m \u001b[1;33m=\u001b[0m \u001b[0mself\u001b[0m\u001b[1;33m.\u001b[0m\u001b[0m_id\u001b[0m\u001b[1;33m\u001b[0m\u001b[1;33m\u001b[0m\u001b[0m\n\u001b[1;32m--> 710\u001b[1;33m         \u001b[1;32mreturn\u001b[0m \u001b[0mself\u001b[0m\u001b[1;33m.\u001b[0m\u001b[0m_parent\u001b[0m\u001b[1;33m.\u001b[0m\u001b[0mexecute\u001b[0m\u001b[1;33m(\u001b[0m\u001b[0mcommand\u001b[0m\u001b[1;33m,\u001b[0m \u001b[0mparams\u001b[0m\u001b[1;33m)\u001b[0m\u001b[1;33m\u001b[0m\u001b[1;33m\u001b[0m\u001b[0m\n\u001b[0m\u001b[0;32m    711\u001b[0m \u001b[1;33m\u001b[0m\u001b[0m\n\u001b[0;32m    712\u001b[0m     \u001b[1;32mdef\u001b[0m \u001b[0mfind_element\u001b[0m\u001b[1;33m(\u001b[0m\u001b[0mself\u001b[0m\u001b[1;33m,\u001b[0m \u001b[0mby\u001b[0m\u001b[1;33m=\u001b[0m\u001b[0mBy\u001b[0m\u001b[1;33m.\u001b[0m\u001b[0mID\u001b[0m\u001b[1;33m,\u001b[0m \u001b[0mvalue\u001b[0m\u001b[1;33m=\u001b[0m\u001b[1;32mNone\u001b[0m\u001b[1;33m)\u001b[0m\u001b[1;33m:\u001b[0m\u001b[1;33m\u001b[0m\u001b[1;33m\u001b[0m\u001b[0m\n",
      "\u001b[1;32m~\\AppData\\Local\\Programs\\Python\\Python310\\lib\\site-packages\\selenium\\webdriver\\remote\\webdriver.py\u001b[0m in \u001b[0;36mexecute\u001b[1;34m(self, driver_command, params)\u001b[0m\n\u001b[0;32m    422\u001b[0m         \u001b[0mresponse\u001b[0m \u001b[1;33m=\u001b[0m \u001b[0mself\u001b[0m\u001b[1;33m.\u001b[0m\u001b[0mcommand_executor\u001b[0m\u001b[1;33m.\u001b[0m\u001b[0mexecute\u001b[0m\u001b[1;33m(\u001b[0m\u001b[0mdriver_command\u001b[0m\u001b[1;33m,\u001b[0m \u001b[0mparams\u001b[0m\u001b[1;33m)\u001b[0m\u001b[1;33m\u001b[0m\u001b[1;33m\u001b[0m\u001b[0m\n\u001b[0;32m    423\u001b[0m         \u001b[1;32mif\u001b[0m \u001b[0mresponse\u001b[0m\u001b[1;33m:\u001b[0m\u001b[1;33m\u001b[0m\u001b[1;33m\u001b[0m\u001b[0m\n\u001b[1;32m--> 424\u001b[1;33m             \u001b[0mself\u001b[0m\u001b[1;33m.\u001b[0m\u001b[0merror_handler\u001b[0m\u001b[1;33m.\u001b[0m\u001b[0mcheck_response\u001b[0m\u001b[1;33m(\u001b[0m\u001b[0mresponse\u001b[0m\u001b[1;33m)\u001b[0m\u001b[1;33m\u001b[0m\u001b[1;33m\u001b[0m\u001b[0m\n\u001b[0m\u001b[0;32m    425\u001b[0m             response['value'] = self._unwrap_value(\n\u001b[0;32m    426\u001b[0m                 response.get('value', None))\n",
      "\u001b[1;32m~\\AppData\\Local\\Programs\\Python\\Python310\\lib\\site-packages\\selenium\\webdriver\\remote\\errorhandler.py\u001b[0m in \u001b[0;36mcheck_response\u001b[1;34m(self, response)\u001b[0m\n\u001b[0;32m    245\u001b[0m                 \u001b[0malert_text\u001b[0m \u001b[1;33m=\u001b[0m \u001b[0mvalue\u001b[0m\u001b[1;33m[\u001b[0m\u001b[1;34m'alert'\u001b[0m\u001b[1;33m]\u001b[0m\u001b[1;33m.\u001b[0m\u001b[0mget\u001b[0m\u001b[1;33m(\u001b[0m\u001b[1;34m'text'\u001b[0m\u001b[1;33m)\u001b[0m\u001b[1;33m\u001b[0m\u001b[1;33m\u001b[0m\u001b[0m\n\u001b[0;32m    246\u001b[0m             \u001b[1;32mraise\u001b[0m \u001b[0mexception_class\u001b[0m\u001b[1;33m(\u001b[0m\u001b[0mmessage\u001b[0m\u001b[1;33m,\u001b[0m \u001b[0mscreen\u001b[0m\u001b[1;33m,\u001b[0m \u001b[0mstacktrace\u001b[0m\u001b[1;33m,\u001b[0m \u001b[0malert_text\u001b[0m\u001b[1;33m)\u001b[0m  \u001b[1;31m# type: ignore[call-arg]  # mypy is not smart enough here\u001b[0m\u001b[1;33m\u001b[0m\u001b[1;33m\u001b[0m\u001b[0m\n\u001b[1;32m--> 247\u001b[1;33m         \u001b[1;32mraise\u001b[0m \u001b[0mexception_class\u001b[0m\u001b[1;33m(\u001b[0m\u001b[0mmessage\u001b[0m\u001b[1;33m,\u001b[0m \u001b[0mscreen\u001b[0m\u001b[1;33m,\u001b[0m \u001b[0mstacktrace\u001b[0m\u001b[1;33m)\u001b[0m\u001b[1;33m\u001b[0m\u001b[1;33m\u001b[0m\u001b[0m\n\u001b[0m\u001b[0;32m    248\u001b[0m \u001b[1;33m\u001b[0m\u001b[0m\n\u001b[0;32m    249\u001b[0m     \u001b[1;32mdef\u001b[0m \u001b[0m_value_or_default\u001b[0m\u001b[1;33m(\u001b[0m\u001b[0mself\u001b[0m\u001b[1;33m,\u001b[0m \u001b[0mobj\u001b[0m\u001b[1;33m:\u001b[0m \u001b[0mMapping\u001b[0m\u001b[1;33m[\u001b[0m\u001b[0m_KT\u001b[0m\u001b[1;33m,\u001b[0m \u001b[0m_VT\u001b[0m\u001b[1;33m]\u001b[0m\u001b[1;33m,\u001b[0m \u001b[0mkey\u001b[0m\u001b[1;33m:\u001b[0m \u001b[0m_KT\u001b[0m\u001b[1;33m,\u001b[0m \u001b[0mdefault\u001b[0m\u001b[1;33m:\u001b[0m \u001b[0m_VT\u001b[0m\u001b[1;33m)\u001b[0m \u001b[1;33m->\u001b[0m \u001b[0m_VT\u001b[0m\u001b[1;33m:\u001b[0m\u001b[1;33m\u001b[0m\u001b[1;33m\u001b[0m\u001b[0m\n",
      "\u001b[1;31mElementNotInteractableException\u001b[0m: Message: element not interactable\n  (Session info: MicrosoftEdge=96.0.1054.43)\nStacktrace:\nBacktrace:\n\tMicrosoft::Applications::Events::ILogConfiguration::ILogConfiguration [0x00007FF67553CD22+56946]\n\tMicrosoft::Applications::Events::EventProperty::to_string [0x00007FF675169C77+947527]\n\tMicrosoft::Applications::Events::EventProperty::to_string [0x00007FF67519F09E+1165678]\n\tMicrosoft::Applications::Events::EventProperty::to_string [0x00007FF67519E38C+1162332]\n\tMicrosoft::Applications::Events::EventProperty::to_string [0x00007FF6751C0D86+1304150]\n\tMicrosoft::Applications::Events::EventProperty::to_string [0x00007FF67519793D+1135117]\n\tMicrosoft::Applications::Events::EventProperty::to_string [0x00007FF6751C0EDC+1304492]\n\tMicrosoft::Applications::Events::EventProperty::to_string [0x00007FF6751D559D+1388141]\n\tMicrosoft::Applications::Events::EventProperty::to_string [0x00007FF6751C0BFF+1303759]\n\tMicrosoft::Applications::Events::EventProperty::to_string [0x00007FF6751962E9+1129401]\n\tMicrosoft::Applications::Events::EventProperty::to_string [0x00007FF6751973CF+1133727]\n\tMicrosoft::Applications::Events::EventProperty::to_string [0x00007FF67522BAB5+1741701]\n\tMicrosoft::Applications::Events::EventProperty::to_string [0x00007FF675229F41+1734673]\n\tMicrosoft::Applications::Events::EventProperty::EventProperty [0x00007FF67540ACD9+2521]\n\tMicrosoft::Applications::Events::EventProperty::to_string [0x00007FF6752018EE+1569214]\n\tMicrosoft::Applications::Events::ILogConfiguration::ILogConfiguration [0x00007FF67553592C+27260]\n\tMicrosoft::Applications::Events::ILogConfiguration::ILogConfiguration [0x00007FF6755352A4+25588]\n\tMicrosoft::Applications::Events::ILogConfiguration::ILogConfiguration [0x00007FF6755350F6+25158]\n\tMicrosoft::Applications::Events::EventProperties::GetName [0x00007FF67548FA9C+211724]\n\tBaseThreadInitThunk [0x00007FFF7B797034+20]\n\tRtlUserThreadStart [0x00007FFF7C6C2651+33]\n"
     ]
    }
   ],
   "source": [
    "password.send_keys(Keys.RETURN)"
   ]
  },
  {
   "cell_type": "code",
   "execution_count": 16,
   "id": "15f2c899-db95-4d8b-b6a2-9dc19f22412b",
   "metadata": {},
   "outputs": [],
   "source": [
    "driver.get('https://twitter.com/search?q=Lei%20Rouanet&src=typed_query&f=live')\n",
    "#acessa aba ''mais recentes''"
   ]
  },
  {
   "cell_type": "code",
   "execution_count": 17,
   "id": "7e154ea5-b56c-4ae2-872a-3ddba05b7807",
   "metadata": {},
   "outputs": [],
   "source": [
    "cards = driver.find_elements(By.XPATH,'//article')"
   ]
  },
  {
   "cell_type": "code",
   "execution_count": 18,
   "id": "20253335-af0b-4eb4-ae18-2be93d324d6c",
   "metadata": {},
   "outputs": [
    {
     "name": "stdout",
     "output_type": "stream",
     "text": [
      "<selenium.webdriver.remote.webelement.WebElement (session=\"f1fec5b1baea362cca6890867a44056a\", element=\"13430153-9b57-4875-abf5-5d6223485b34\")>\n"
     ]
    }
   ],
   "source": [
    "card = cards[0]\n",
    "print (card)"
   ]
  },
  {
   "cell_type": "code",
   "execution_count": 19,
   "id": "40b81a9d-e5b8-4446-be8d-becb53a05df0",
   "metadata": {},
   "outputs": [
    {
     "data": {
      "text/plain": [
       "'Andreia Alves de Lara'"
      ]
     },
     "execution_count": 19,
     "metadata": {},
     "output_type": "execute_result"
    }
   ],
   "source": [
    "#username\n",
    "card.find_element(By.XPATH,'.//span').text"
   ]
  },
  {
   "cell_type": "code",
   "execution_count": 20,
   "id": "7ba26afc-74f6-4f60-beaa-45e0c7ea17b3",
   "metadata": {},
   "outputs": [
    {
     "data": {
      "text/plain": [
       "'@Andreia79899820'"
      ]
     },
     "execution_count": 20,
     "metadata": {},
     "output_type": "execute_result"
    }
   ],
   "source": [
    "#twitter handle\n",
    "card.find_element(By.XPATH,'.//span[contains(text(), \"@\")]').text"
   ]
  },
  {
   "cell_type": "code",
   "execution_count": 21,
   "id": "5f45a9b9-8fe4-4055-b102-f62b4dc6628b",
   "metadata": {},
   "outputs": [
    {
     "data": {
      "text/plain": [
       "'2021-12-05T19:30:34.000Z'"
      ]
     },
     "execution_count": 21,
     "metadata": {},
     "output_type": "execute_result"
    }
   ],
   "source": [
    "#postdate\n",
    "card.find_element(By.XPATH,'.//time').get_attribute('datetime')"
   ]
  },
  {
   "cell_type": "code",
   "execution_count": 22,
   "id": "578765ae-fccb-4e04-a2b2-44620809e3a1",
   "metadata": {},
   "outputs": [
    {
     "data": {
      "text/plain": [
       "'Andreia Alves de LaraUm cara que não construiu nada, só usou o dinheiro da lei Rouanet, ficou mandando o povo ficar em casa, numa HIPOCRESIA vergonhosa viaja e tira uma foto dessa tô achando que é fetiche o que você tem pelo presidente ou inveja.'"
      ]
     },
     "execution_count": 22,
     "metadata": {},
     "output_type": "execute_result"
    }
   ],
   "source": [
    "#tweet content\n",
    "comment = card.find_element(By.XPATH,'.//span[1]').text\n",
    "responding = card.find_element(By.XPATH,'.//div/div/div/div[2]/div[2]/div[2]/div[1]').text\n",
    "comment + responding"
   ]
  },
  {
   "cell_type": "code",
   "execution_count": 23,
   "id": "4786c997-9fe7-44e6-b129-e94c026ffbb1",
   "metadata": {},
   "outputs": [
    {
     "data": {
      "text/plain": [
       "''"
      ]
     },
     "execution_count": 23,
     "metadata": {},
     "output_type": "execute_result"
    }
   ],
   "source": [
    "#reply count\n",
    "card.find_element(By.XPATH,'.//div[@data-testid=\"reply\"]').text"
   ]
  },
  {
   "cell_type": "code",
   "execution_count": 25,
   "id": "715b65b5-6078-48e5-81e0-7be7c16ef84e",
   "metadata": {},
   "outputs": [
    {
     "data": {
      "text/plain": [
       "''"
      ]
     },
     "execution_count": 25,
     "metadata": {},
     "output_type": "execute_result"
    }
   ],
   "source": [
    "#retweet\n",
    "card.find_element(By.XPATH,'.//div[@data-testid=\"retweet\"]').text"
   ]
  },
  {
   "cell_type": "code",
   "execution_count": 26,
   "id": "faec92ce-19ab-42c6-86c6-b4f110bf8bd5",
   "metadata": {},
   "outputs": [
    {
     "data": {
      "text/plain": [
       "''"
      ]
     },
     "execution_count": 26,
     "metadata": {},
     "output_type": "execute_result"
    }
   ],
   "source": [
    "#Likes\n",
    "card.find_element(By.XPATH,'.//div[@data-testid=\"like\"]').text"
   ]
  },
  {
   "cell_type": "code",
   "execution_count": 28,
   "id": "d627e0af-0c0a-48f9-b9ca-d626c9e736e3",
   "metadata": {},
   "outputs": [],
   "source": [
    "def get_tweet_data(card):\n",
    "    \"\"\"Extact data from tweet data\"\"\"\n",
    "    username = card.find_element(By.XPATH,'.//span').text\n",
    "    handle = card.find_element(By.XPATH,'.//span[contains(text(), \"@\")]').text\n",
    "    try:\n",
    "        postdate = card.find_element(By.XPATH,'.//time').get_attribute('datetime')\n",
    "    except NoSuchElementException:\n",
    "        return\n",
    "    comment = card.find_element(By.XPATH,'.//span[1]').text\n",
    "    responding = card.find_element(By.XPATH,'.//div/div/div/div[2]/div[2]/div[2]/div[1]').text\n",
    "    text = comment + responding\n",
    "    reply_cnt = card.find_element(By.XPATH,'.//div[@data-testid=\"reply\"]').text\n",
    "    retweet_cnt = card.find_element(By.XPATH,'.//div[@data-testid=\"retweet\"]').text\n",
    "    like_cnt = card.find_element(By.XPATH,'.//div[@data-testid=\"like\"]').text\n",
    "    \n",
    "    tweet = (username, handle, postdate, text, reply_cnt, retweet_cnt, like_cnt)\n",
    "    return tweet\n",
    "        \n",
    "    "
   ]
  },
  {
   "cell_type": "code",
   "execution_count": 29,
   "id": "96a250be-a435-481a-9aec-4319d07866d8",
   "metadata": {},
   "outputs": [
    {
     "data": {
      "text/plain": [
       "('Andreia Alves de Lara',\n",
       " '@Andreia79899820',\n",
       " '2021-12-05T19:30:34.000Z',\n",
       " 'Andreia Alves de LaraUm cara que não construiu nada, só usou o dinheiro da lei Rouanet, ficou mandando o povo ficar em casa, numa HIPOCRESIA vergonhosa viaja e tira uma foto dessa tô achando que é fetiche o que você tem pelo presidente ou inveja.',\n",
       " '',\n",
       " '1',\n",
       " '3')"
      ]
     },
     "execution_count": 29,
     "metadata": {},
     "output_type": "execute_result"
    }
   ],
   "source": [
    "get_tweet_data(card)"
   ]
  },
  {
   "cell_type": "code",
   "execution_count": 30,
   "id": "6d8723c2-0740-4cdc-8939-38515173acd5",
   "metadata": {},
   "outputs": [],
   "source": [
    "tweet_data = []\n",
    "\n",
    "for card in cards:\n",
    "    data = get_tweet_data(card)\n",
    "    if data:\n",
    "        tweet_data.append(data)"
   ]
  },
  {
   "cell_type": "code",
   "execution_count": 31,
   "id": "d17dc92c-e583-4f35-961b-86bbb3016d6d",
   "metadata": {},
   "outputs": [
    {
     "data": {
      "text/plain": [
       "('Andreia Alves de Lara',\n",
       " '@Andreia79899820',\n",
       " '2021-12-05T19:30:34.000Z',\n",
       " 'Andreia Alves de LaraUm cara que não construiu nada, só usou o dinheiro da lei Rouanet, ficou mandando o povo ficar em casa, numa HIPOCRESIA vergonhosa viaja e tira uma foto dessa tô achando que é fetiche o que você tem pelo presidente ou inveja.',\n",
       " '',\n",
       " '1',\n",
       " '3')"
      ]
     },
     "execution_count": 31,
     "metadata": {},
     "output_type": "execute_result"
    }
   ],
   "source": [
    "tweet_data[0]"
   ]
  },
  {
   "cell_type": "code",
   "execution_count": 32,
   "id": "76169c87-bdbc-4ede-af1e-51c56f206125",
   "metadata": {},
   "outputs": [],
   "source": [
    "driver.execute_script('window.scrollTo(0, document.body.scrollHeight)')"
   ]
  },
  {
   "cell_type": "code",
   "execution_count": 33,
   "id": "e8949edb-1001-4283-9a2d-3cc7b2be95f3",
   "metadata": {},
   "outputs": [],
   "source": [
    "##unificando o código"
   ]
  },
  {
   "cell_type": "code",
   "execution_count": 4,
   "id": "5067fb5f-b140-4856-be49-0e1d0915a70e",
   "metadata": {},
   "outputs": [
    {
     "ename": "NoSuchElementException",
     "evalue": "Message: no such element: Unable to locate element: {\"method\":\"xpath\",\"selector\":\".//span[contains(text(), \"@\")]\"}\n  (Session info: MicrosoftEdge=96.0.1054.43)\nStacktrace:\nBacktrace:\n\tMicrosoft::Applications::Events::ILogConfiguration::ILogConfiguration [0x00007FF67553CD22+56946]\n\tMicrosoft::Applications::Events::EventProperty::to_string [0x00007FF675169DD7+947879]\n\tMicrosoft::Applications::Events::EventProperty::to_string [0x00007FF6751A5B59+1193001]\n\tMicrosoft::Applications::Events::EventProperty::to_string [0x00007FF675197A27+1135351]\n\tMicrosoft::Applications::Events::EventProperty::to_string [0x00007FF6751C0DBB+1304203]\n\tMicrosoft::Applications::Events::EventProperty::to_string [0x00007FF67519793D+1135117]\n\tMicrosoft::Applications::Events::EventProperty::to_string [0x00007FF6751C0EDC+1304492]\n\tMicrosoft::Applications::Events::EventProperty::to_string [0x00007FF6751D559D+1388141]\n\tMicrosoft::Applications::Events::EventProperty::to_string [0x00007FF6751C0BFF+1303759]\n\tMicrosoft::Applications::Events::EventProperty::to_string [0x00007FF6751962E9+1129401]\n\tMicrosoft::Applications::Events::EventProperty::to_string [0x00007FF6751973CF+1133727]\n\tMicrosoft::Applications::Events::EventProperty::to_string [0x00007FF67522BAB5+1741701]\n\tMicrosoft::Applications::Events::EventProperty::to_string [0x00007FF675229F41+1734673]\n\tMicrosoft::Applications::Events::EventProperty::EventProperty [0x00007FF67540ACD9+2521]\n\tMicrosoft::Applications::Events::EventProperty::to_string [0x00007FF6752018EE+1569214]\n\tMicrosoft::Applications::Events::ILogConfiguration::ILogConfiguration [0x00007FF67553592C+27260]\n\tMicrosoft::Applications::Events::ILogConfiguration::ILogConfiguration [0x00007FF6755352A4+25588]\n\tMicrosoft::Applications::Events::ILogConfiguration::ILogConfiguration [0x00007FF6755350F6+25158]\n\tMicrosoft::Applications::Events::EventProperties::GetName [0x00007FF67548FA9C+211724]\n\tBaseThreadInitThunk [0x00007FFF7B797034+20]\n\tRtlUserThreadStart [0x00007FFF7C6C2651+33]\n",
     "output_type": "error",
     "traceback": [
      "\u001b[1;31m---------------------------------------------------------------------------\u001b[0m",
      "\u001b[1;31mNoSuchElementException\u001b[0m                    Traceback (most recent call last)",
      "\u001b[1;32m~\\AppData\\Local\\Temp/ipykernel_8148/1327669093.py\u001b[0m in \u001b[0;36m<module>\u001b[1;34m\u001b[0m\n\u001b[0;32m     65\u001b[0m     \u001b[0mpage_cards\u001b[0m \u001b[1;33m=\u001b[0m \u001b[0mdriver\u001b[0m\u001b[1;33m.\u001b[0m\u001b[0mfind_elements\u001b[0m\u001b[1;33m(\u001b[0m\u001b[0mBy\u001b[0m\u001b[1;33m.\u001b[0m\u001b[0mXPATH\u001b[0m\u001b[1;33m,\u001b[0m\u001b[1;34m'//article'\u001b[0m\u001b[1;33m)\u001b[0m\u001b[1;33m\u001b[0m\u001b[1;33m\u001b[0m\u001b[0m\n\u001b[0;32m     66\u001b[0m     \u001b[1;32mfor\u001b[0m \u001b[0mcard\u001b[0m \u001b[1;32min\u001b[0m \u001b[0mpage_cards\u001b[0m\u001b[1;33m[\u001b[0m\u001b[1;33m-\u001b[0m\u001b[1;36m15\u001b[0m\u001b[1;33m:\u001b[0m\u001b[1;33m]\u001b[0m\u001b[1;33m:\u001b[0m\u001b[1;33m\u001b[0m\u001b[1;33m\u001b[0m\u001b[0m\n\u001b[1;32m---> 67\u001b[1;33m         \u001b[0mtweet\u001b[0m \u001b[1;33m=\u001b[0m \u001b[0mget_tweet_data\u001b[0m\u001b[1;33m(\u001b[0m\u001b[0mcard\u001b[0m\u001b[1;33m)\u001b[0m\u001b[1;33m\u001b[0m\u001b[1;33m\u001b[0m\u001b[0m\n\u001b[0m\u001b[0;32m     68\u001b[0m         \u001b[1;32mif\u001b[0m \u001b[0mtweet\u001b[0m\u001b[1;33m:\u001b[0m\u001b[1;33m\u001b[0m\u001b[1;33m\u001b[0m\u001b[0m\n\u001b[0;32m     69\u001b[0m             \u001b[0mtweet_id\u001b[0m \u001b[1;33m=\u001b[0m \u001b[1;34m''\u001b[0m\u001b[1;33m.\u001b[0m\u001b[0mjoin\u001b[0m\u001b[1;33m(\u001b[0m\u001b[0mtweet\u001b[0m\u001b[1;33m)\u001b[0m\u001b[1;33m\u001b[0m\u001b[1;33m\u001b[0m\u001b[0m\n",
      "\u001b[1;32m~\\AppData\\Local\\Temp/ipykernel_8148/1327669093.py\u001b[0m in \u001b[0;36mget_tweet_data\u001b[1;34m(card)\u001b[0m\n\u001b[0;32m     12\u001b[0m     \u001b[1;34m\"\"\"Extact data from tweet data\"\"\"\u001b[0m\u001b[1;33m\u001b[0m\u001b[1;33m\u001b[0m\u001b[0m\n\u001b[0;32m     13\u001b[0m     \u001b[0musername\u001b[0m \u001b[1;33m=\u001b[0m \u001b[0mcard\u001b[0m\u001b[1;33m.\u001b[0m\u001b[0mfind_element\u001b[0m\u001b[1;33m(\u001b[0m\u001b[0mBy\u001b[0m\u001b[1;33m.\u001b[0m\u001b[0mXPATH\u001b[0m\u001b[1;33m,\u001b[0m\u001b[1;34m'.//span'\u001b[0m\u001b[1;33m)\u001b[0m\u001b[1;33m.\u001b[0m\u001b[0mtext\u001b[0m\u001b[1;33m\u001b[0m\u001b[1;33m\u001b[0m\u001b[0m\n\u001b[1;32m---> 14\u001b[1;33m     \u001b[0mhandle\u001b[0m \u001b[1;33m=\u001b[0m \u001b[0mcard\u001b[0m\u001b[1;33m.\u001b[0m\u001b[0mfind_element\u001b[0m\u001b[1;33m(\u001b[0m\u001b[0mBy\u001b[0m\u001b[1;33m.\u001b[0m\u001b[0mXPATH\u001b[0m\u001b[1;33m,\u001b[0m\u001b[1;34m'.//span[contains(text(), \"@\")]'\u001b[0m\u001b[1;33m)\u001b[0m\u001b[1;33m.\u001b[0m\u001b[0mtext\u001b[0m\u001b[1;33m\u001b[0m\u001b[1;33m\u001b[0m\u001b[0m\n\u001b[0m\u001b[0;32m     15\u001b[0m     \u001b[1;32mtry\u001b[0m\u001b[1;33m:\u001b[0m\u001b[1;33m\u001b[0m\u001b[1;33m\u001b[0m\u001b[0m\n\u001b[0;32m     16\u001b[0m         \u001b[0mpostdate\u001b[0m \u001b[1;33m=\u001b[0m \u001b[0mcard\u001b[0m\u001b[1;33m.\u001b[0m\u001b[0mfind_element\u001b[0m\u001b[1;33m(\u001b[0m\u001b[0mBy\u001b[0m\u001b[1;33m.\u001b[0m\u001b[0mXPATH\u001b[0m\u001b[1;33m,\u001b[0m\u001b[1;34m'.//time'\u001b[0m\u001b[1;33m)\u001b[0m\u001b[1;33m.\u001b[0m\u001b[0mget_attribute\u001b[0m\u001b[1;33m(\u001b[0m\u001b[1;34m'datetime'\u001b[0m\u001b[1;33m)\u001b[0m\u001b[1;33m\u001b[0m\u001b[1;33m\u001b[0m\u001b[0m\n",
      "\u001b[1;32m~\\AppData\\Local\\Programs\\Python\\Python310\\lib\\site-packages\\selenium\\webdriver\\remote\\webelement.py\u001b[0m in \u001b[0;36mfind_element\u001b[1;34m(self, by, value)\u001b[0m\n\u001b[0;32m    733\u001b[0m             \u001b[0mvalue\u001b[0m \u001b[1;33m=\u001b[0m \u001b[1;34m'[name=\"%s\"]'\u001b[0m \u001b[1;33m%\u001b[0m \u001b[0mvalue\u001b[0m\u001b[1;33m\u001b[0m\u001b[1;33m\u001b[0m\u001b[0m\n\u001b[0;32m    734\u001b[0m \u001b[1;33m\u001b[0m\u001b[0m\n\u001b[1;32m--> 735\u001b[1;33m         return self._execute(Command.FIND_CHILD_ELEMENT,\n\u001b[0m\u001b[0;32m    736\u001b[0m                              {\"using\": by, \"value\": value})['value']\n\u001b[0;32m    737\u001b[0m \u001b[1;33m\u001b[0m\u001b[0m\n",
      "\u001b[1;32m~\\AppData\\Local\\Programs\\Python\\Python310\\lib\\site-packages\\selenium\\webdriver\\remote\\webelement.py\u001b[0m in \u001b[0;36m_execute\u001b[1;34m(self, command, params)\u001b[0m\n\u001b[0;32m    708\u001b[0m             \u001b[0mparams\u001b[0m \u001b[1;33m=\u001b[0m \u001b[1;33m{\u001b[0m\u001b[1;33m}\u001b[0m\u001b[1;33m\u001b[0m\u001b[1;33m\u001b[0m\u001b[0m\n\u001b[0;32m    709\u001b[0m         \u001b[0mparams\u001b[0m\u001b[1;33m[\u001b[0m\u001b[1;34m'id'\u001b[0m\u001b[1;33m]\u001b[0m \u001b[1;33m=\u001b[0m \u001b[0mself\u001b[0m\u001b[1;33m.\u001b[0m\u001b[0m_id\u001b[0m\u001b[1;33m\u001b[0m\u001b[1;33m\u001b[0m\u001b[0m\n\u001b[1;32m--> 710\u001b[1;33m         \u001b[1;32mreturn\u001b[0m \u001b[0mself\u001b[0m\u001b[1;33m.\u001b[0m\u001b[0m_parent\u001b[0m\u001b[1;33m.\u001b[0m\u001b[0mexecute\u001b[0m\u001b[1;33m(\u001b[0m\u001b[0mcommand\u001b[0m\u001b[1;33m,\u001b[0m \u001b[0mparams\u001b[0m\u001b[1;33m)\u001b[0m\u001b[1;33m\u001b[0m\u001b[1;33m\u001b[0m\u001b[0m\n\u001b[0m\u001b[0;32m    711\u001b[0m \u001b[1;33m\u001b[0m\u001b[0m\n\u001b[0;32m    712\u001b[0m     \u001b[1;32mdef\u001b[0m \u001b[0mfind_element\u001b[0m\u001b[1;33m(\u001b[0m\u001b[0mself\u001b[0m\u001b[1;33m,\u001b[0m \u001b[0mby\u001b[0m\u001b[1;33m=\u001b[0m\u001b[0mBy\u001b[0m\u001b[1;33m.\u001b[0m\u001b[0mID\u001b[0m\u001b[1;33m,\u001b[0m \u001b[0mvalue\u001b[0m\u001b[1;33m=\u001b[0m\u001b[1;32mNone\u001b[0m\u001b[1;33m)\u001b[0m\u001b[1;33m:\u001b[0m\u001b[1;33m\u001b[0m\u001b[1;33m\u001b[0m\u001b[0m\n",
      "\u001b[1;32m~\\AppData\\Local\\Programs\\Python\\Python310\\lib\\site-packages\\selenium\\webdriver\\remote\\webdriver.py\u001b[0m in \u001b[0;36mexecute\u001b[1;34m(self, driver_command, params)\u001b[0m\n\u001b[0;32m    422\u001b[0m         \u001b[0mresponse\u001b[0m \u001b[1;33m=\u001b[0m \u001b[0mself\u001b[0m\u001b[1;33m.\u001b[0m\u001b[0mcommand_executor\u001b[0m\u001b[1;33m.\u001b[0m\u001b[0mexecute\u001b[0m\u001b[1;33m(\u001b[0m\u001b[0mdriver_command\u001b[0m\u001b[1;33m,\u001b[0m \u001b[0mparams\u001b[0m\u001b[1;33m)\u001b[0m\u001b[1;33m\u001b[0m\u001b[1;33m\u001b[0m\u001b[0m\n\u001b[0;32m    423\u001b[0m         \u001b[1;32mif\u001b[0m \u001b[0mresponse\u001b[0m\u001b[1;33m:\u001b[0m\u001b[1;33m\u001b[0m\u001b[1;33m\u001b[0m\u001b[0m\n\u001b[1;32m--> 424\u001b[1;33m             \u001b[0mself\u001b[0m\u001b[1;33m.\u001b[0m\u001b[0merror_handler\u001b[0m\u001b[1;33m.\u001b[0m\u001b[0mcheck_response\u001b[0m\u001b[1;33m(\u001b[0m\u001b[0mresponse\u001b[0m\u001b[1;33m)\u001b[0m\u001b[1;33m\u001b[0m\u001b[1;33m\u001b[0m\u001b[0m\n\u001b[0m\u001b[0;32m    425\u001b[0m             response['value'] = self._unwrap_value(\n\u001b[0;32m    426\u001b[0m                 response.get('value', None))\n",
      "\u001b[1;32m~\\AppData\\Local\\Programs\\Python\\Python310\\lib\\site-packages\\selenium\\webdriver\\remote\\errorhandler.py\u001b[0m in \u001b[0;36mcheck_response\u001b[1;34m(self, response)\u001b[0m\n\u001b[0;32m    245\u001b[0m                 \u001b[0malert_text\u001b[0m \u001b[1;33m=\u001b[0m \u001b[0mvalue\u001b[0m\u001b[1;33m[\u001b[0m\u001b[1;34m'alert'\u001b[0m\u001b[1;33m]\u001b[0m\u001b[1;33m.\u001b[0m\u001b[0mget\u001b[0m\u001b[1;33m(\u001b[0m\u001b[1;34m'text'\u001b[0m\u001b[1;33m)\u001b[0m\u001b[1;33m\u001b[0m\u001b[1;33m\u001b[0m\u001b[0m\n\u001b[0;32m    246\u001b[0m             \u001b[1;32mraise\u001b[0m \u001b[0mexception_class\u001b[0m\u001b[1;33m(\u001b[0m\u001b[0mmessage\u001b[0m\u001b[1;33m,\u001b[0m \u001b[0mscreen\u001b[0m\u001b[1;33m,\u001b[0m \u001b[0mstacktrace\u001b[0m\u001b[1;33m,\u001b[0m \u001b[0malert_text\u001b[0m\u001b[1;33m)\u001b[0m  \u001b[1;31m# type: ignore[call-arg]  # mypy is not smart enough here\u001b[0m\u001b[1;33m\u001b[0m\u001b[1;33m\u001b[0m\u001b[0m\n\u001b[1;32m--> 247\u001b[1;33m         \u001b[1;32mraise\u001b[0m \u001b[0mexception_class\u001b[0m\u001b[1;33m(\u001b[0m\u001b[0mmessage\u001b[0m\u001b[1;33m,\u001b[0m \u001b[0mscreen\u001b[0m\u001b[1;33m,\u001b[0m \u001b[0mstacktrace\u001b[0m\u001b[1;33m)\u001b[0m\u001b[1;33m\u001b[0m\u001b[1;33m\u001b[0m\u001b[0m\n\u001b[0m\u001b[0;32m    248\u001b[0m \u001b[1;33m\u001b[0m\u001b[0m\n\u001b[0;32m    249\u001b[0m     \u001b[1;32mdef\u001b[0m \u001b[0m_value_or_default\u001b[0m\u001b[1;33m(\u001b[0m\u001b[0mself\u001b[0m\u001b[1;33m,\u001b[0m \u001b[0mobj\u001b[0m\u001b[1;33m:\u001b[0m \u001b[0mMapping\u001b[0m\u001b[1;33m[\u001b[0m\u001b[0m_KT\u001b[0m\u001b[1;33m,\u001b[0m \u001b[0m_VT\u001b[0m\u001b[1;33m]\u001b[0m\u001b[1;33m,\u001b[0m \u001b[0mkey\u001b[0m\u001b[1;33m:\u001b[0m \u001b[0m_KT\u001b[0m\u001b[1;33m,\u001b[0m \u001b[0mdefault\u001b[0m\u001b[1;33m:\u001b[0m \u001b[0m_VT\u001b[0m\u001b[1;33m)\u001b[0m \u001b[1;33m->\u001b[0m \u001b[0m_VT\u001b[0m\u001b[1;33m:\u001b[0m\u001b[1;33m\u001b[0m\u001b[1;33m\u001b[0m\u001b[0m\n",
      "\u001b[1;31mNoSuchElementException\u001b[0m: Message: no such element: Unable to locate element: {\"method\":\"xpath\",\"selector\":\".//span[contains(text(), \"@\")]\"}\n  (Session info: MicrosoftEdge=96.0.1054.43)\nStacktrace:\nBacktrace:\n\tMicrosoft::Applications::Events::ILogConfiguration::ILogConfiguration [0x00007FF67553CD22+56946]\n\tMicrosoft::Applications::Events::EventProperty::to_string [0x00007FF675169DD7+947879]\n\tMicrosoft::Applications::Events::EventProperty::to_string [0x00007FF6751A5B59+1193001]\n\tMicrosoft::Applications::Events::EventProperty::to_string [0x00007FF675197A27+1135351]\n\tMicrosoft::Applications::Events::EventProperty::to_string [0x00007FF6751C0DBB+1304203]\n\tMicrosoft::Applications::Events::EventProperty::to_string [0x00007FF67519793D+1135117]\n\tMicrosoft::Applications::Events::EventProperty::to_string [0x00007FF6751C0EDC+1304492]\n\tMicrosoft::Applications::Events::EventProperty::to_string [0x00007FF6751D559D+1388141]\n\tMicrosoft::Applications::Events::EventProperty::to_string [0x00007FF6751C0BFF+1303759]\n\tMicrosoft::Applications::Events::EventProperty::to_string [0x00007FF6751962E9+1129401]\n\tMicrosoft::Applications::Events::EventProperty::to_string [0x00007FF6751973CF+1133727]\n\tMicrosoft::Applications::Events::EventProperty::to_string [0x00007FF67522BAB5+1741701]\n\tMicrosoft::Applications::Events::EventProperty::to_string [0x00007FF675229F41+1734673]\n\tMicrosoft::Applications::Events::EventProperty::EventProperty [0x00007FF67540ACD9+2521]\n\tMicrosoft::Applications::Events::EventProperty::to_string [0x00007FF6752018EE+1569214]\n\tMicrosoft::Applications::Events::ILogConfiguration::ILogConfiguration [0x00007FF67553592C+27260]\n\tMicrosoft::Applications::Events::ILogConfiguration::ILogConfiguration [0x00007FF6755352A4+25588]\n\tMicrosoft::Applications::Events::ILogConfiguration::ILogConfiguration [0x00007FF6755350F6+25158]\n\tMicrosoft::Applications::Events::EventProperties::GetName [0x00007FF67548FA9C+211724]\n\tBaseThreadInitThunk [0x00007FFF7B797034+20]\n\tRtlUserThreadStart [0x00007FFF7C6C2651+33]\n"
     ]
    }
   ],
   "source": [
    "import csv\n",
    "from getpass import getpass\n",
    "from time import sleep\n",
    "from selenium.webdriver.common.keys import Keys\n",
    "from selenium.common.exceptions import NoSuchElementException\n",
    "from msedge.selenium_tools import Edge, EdgeOptions\n",
    "from selenium.webdriver.common.by import By\n",
    "from selenium.webdriver.support import expected_conditions\n",
    "from selenium.common import exceptions\n",
    "\n",
    "def get_tweet_data(card):\n",
    "    \"\"\"Extact data from tweet data\"\"\"\n",
    "    username = card.find_element(By.XPATH,'.//span').text\n",
    "    handle = card.find_element(By.XPATH,'.//span[contains(text(), \"@\")]').text\n",
    "    try:\n",
    "        postdate = card.find_element(By.XPATH,'.//time').get_attribute('datetime')\n",
    "    except NoSuchElementException:\n",
    "        return\n",
    "    comment = card.find_element(By.XPATH,'.//span[1]').text\n",
    "    responding = card.find_element(By.XPATH,'.//div/div/div/div[2]/div[2]/div[2]/div[1]').text\n",
    "    text = comment + responding\n",
    "    reply_cnt = card.find_element(By.XPATH,'.//div[@data-testid=\"reply\"]').text\n",
    "    retweet_cnt = card.find_element(By.XPATH,'.//div[@data-testid=\"retweet\"]').text\n",
    "    like_cnt = card.find_element(By.XPATH,'.//div[@data-testid=\"like\"]').text\n",
    "    \n",
    "    tweet = (username, handle, postdate, text, reply_cnt, retweet_cnt, like_cnt)\n",
    "    return tweet\n",
    "\n",
    "# Creando instância do web driver\n",
    "options = EdgeOptions()\n",
    "options.use_chromium = True\n",
    "driver = Edge(options=options)\n",
    "\n",
    "# Acessar o twitter e logar\n",
    "\n",
    "driver.get('https://www.twitter.com/login')\n",
    "driver.maximize_window()\n",
    "\n",
    "\n",
    "sleep(10)\n",
    "username =  driver.find_element(By.XPATH,'//label/div/div[2]/div/input')\n",
    "username.send_keys('edardu@hotmail.com')\n",
    "username.send_keys(Keys.RETURN)\n",
    "\n",
    "sleep(10)\n",
    "nameuser = driver.find_element(By.XPATH,'//label/div/div[2]/div/input')\n",
    "nameuser.send_keys('eduardoalc1')\n",
    "nameuser.send_keys(Keys.RETURN)\n",
    "\n",
    "sleep(10)\n",
    "password = driver.find_element(By.XPATH,'//*[@id=\"layers\"]/div[2]/div/div/div/div/div/div[2]/div[2]/div/div/div[2]/div[2]/div[1]/div/div[3]/div/label/div/div[2]/div[1]/input')\n",
    "password.send_keys('Alcantara12')\n",
    "password.send_keys(Keys.RETURN)\n",
    "\n",
    "#acessa a página da pesquisa\n",
    "driver.get('https://twitter.com/search?q=Lei%20Rouanet&src=typed_query&f=live')\n",
    "\n",
    "#coletar todos os tweets da página\n",
    "data = []\n",
    "tweet_ids = set()\n",
    "last_position = driver.execute_script(\"return window.pageYOffset;\")\n",
    "scrolling = True\n",
    "\n",
    "while scrolling:\n",
    "    page_cards = driver.find_elements(By.XPATH,'//article')\n",
    "    for card in page_cards[-15:]:\n",
    "        tweet = get_tweet_data(card)\n",
    "        if tweet:\n",
    "            tweet_id = ''.join(tweet)\n",
    "            if tweet_id not in tweet_ids:\n",
    "                tweet_ids.add(tweet_id)\n",
    "                data.append(tweet)\n",
    "                \n",
    "    scroll_attempt = 0\n",
    "    while True:\n",
    "        driver.execute_script('window.scrollTo(0, document.body.scrollHeight)')\n",
    "        sleep(5)\n",
    "        curr_position = driver.execute_script(\"return window.pageYOffset;\") \n",
    "        if last_position == curr_position:\n",
    "            scroll_attempt += 1\n",
    "            \n",
    "            if scroll_attempt >= 3:\n",
    "                scrolling = False\n",
    "                break\n",
    "            else:\n",
    "                sleep(2)\n",
    "                \n",
    "        else:\n",
    "            last_position = curr_position\n",
    "            break\n",
    "            \n",
    "            \n",
    "\n",
    "\n",
    "        "
   ]
  },
  {
   "cell_type": "code",
   "execution_count": 5,
   "id": "65ca305b-5e3e-430b-bd16-d515bdabb3ac",
   "metadata": {},
   "outputs": [
    {
     "data": {
      "text/plain": [
       "2288"
      ]
     },
     "execution_count": 5,
     "metadata": {},
     "output_type": "execute_result"
    }
   ],
   "source": [
    "len(data)"
   ]
  },
  {
   "cell_type": "code",
   "execution_count": 6,
   "id": "7e9a8c45-e909-40c9-bb54-b50417d30e11",
   "metadata": {},
   "outputs": [],
   "source": [
    "with open('Lei Rouanet_tweets.csv','w', newline='',encoding='utf-8') as f:\n",
    "    header = ['Username', 'Handle', 'Timestamp', 'Comments', 'Likes', 'Retweets', 'Text']\n",
    "    writer = csv.writer(f)\n",
    "    writer.writerow(header)\n",
    "    writer.writerows(data)\n",
    "    "
   ]
  },
  {
   "cell_type": "code",
   "execution_count": null,
   "id": "7fe5e1c3-f25d-4b10-bb40-b2eadaea317b",
   "metadata": {},
   "outputs": [],
   "source": []
  }
 ],
 "metadata": {
  "kernelspec": {
   "display_name": "Python 3 (ipykernel)",
   "language": "python",
   "name": "python3"
  },
  "language_info": {
   "codemirror_mode": {
    "name": "ipython",
    "version": 3
   },
   "file_extension": ".py",
   "mimetype": "text/x-python",
   "name": "python",
   "nbconvert_exporter": "python",
   "pygments_lexer": "ipython3",
   "version": "3.10.0"
  }
 },
 "nbformat": 4,
 "nbformat_minor": 5
}
