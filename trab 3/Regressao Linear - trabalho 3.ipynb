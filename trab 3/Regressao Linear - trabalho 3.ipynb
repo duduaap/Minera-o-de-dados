{
 "cells": [
  {
   "cell_type": "code",
   "execution_count": 9,
   "metadata": {},
   "outputs": [],
   "source": [
    "import numpy as np\n",
    "import pandas as pd\n",
    "from plotnine import *\n",
    "import statistics \n",
    "\n",
    "from sklearn.model_selection import train_test_split\n",
    "from sklearn import datasets, linear_model\n",
    "from sklearn.metrics import mean_squared_error, r2_score\n",
    "\n",
    "from sklearn.model_selection import GridSearchCV\n",
    "\n",
    "import plotly.graph_objects as go\n",
    "import plotly.express as px "
   ]
  },
  {
   "cell_type": "markdown",
   "metadata": {},
   "source": [
    "# Regressão Linear"
   ]
  },
  {
   "cell_type": "markdown",
   "metadata": {},
   "source": [
    "## Regressão Linear Univariada"
   ]
  },
  {
   "cell_type": "code",
   "execution_count": 10,
   "metadata": {},
   "outputs": [],
   "source": [
    "#DataSet\n",
    "dataset = pd.read_csv('leiR tweets.csv')"
   ]
  },
  {
   "cell_type": "code",
   "execution_count": 11,
   "metadata": {},
   "outputs": [
    {
     "name": "stdout",
     "output_type": "stream",
     "text": [
      "<class 'pandas.core.frame.DataFrame'>\n",
      "RangeIndex: 2288 entries, 0 to 2287\n",
      "Data columns (total 7 columns):\n",
      " #   Column     Non-Null Count  Dtype  \n",
      "---  ------     --------------  -----  \n",
      " 0   Username   2281 non-null   object \n",
      " 1   Handle     2286 non-null   object \n",
      " 2   Timestamp  2288 non-null   object \n",
      " 3   Comments   2288 non-null   object \n",
      " 4   Likes      456 non-null    float64\n",
      " 5   Retweets   436 non-null    float64\n",
      " 6   Text       1070 non-null   float64\n",
      "dtypes: float64(3), object(4)\n",
      "memory usage: 125.2+ KB\n"
     ]
    }
   ],
   "source": [
    "dataset.info()"
   ]
  },
  {
   "cell_type": "code",
   "execution_count": 16,
   "metadata": {},
   "outputs": [],
   "source": [
    "dataset[\"Likes\"] = dataset[\"Likes\"].fillna(0)\n",
    "dataset[\"Retweets\"] = dataset[\"Retweets\"].fillna(0)"
   ]
  },
  {
   "cell_type": "code",
   "execution_count": 17,
   "metadata": {},
   "outputs": [],
   "source": [
    "dataset[\"Likes\"] = dataset[\"Likes\"].astype(int)\n",
    "dataset[\"Retweets\"] = dataset[\"Retweets\"].astype(int)"
   ]
  },
  {
   "cell_type": "code",
   "execution_count": 18,
   "metadata": {},
   "outputs": [
    {
     "data": {
      "image/png": "[encoded data removed]",
      "text/plain": [
       "<Figure size 640x480 with 1 Axes>"
      ]
     },
     "metadata": {},
     "output_type": "display_data"
    },
    {
     "data": {
      "text/plain": [
       "<ggplot: (150819291494)>"
      ]
     },
     "execution_count": 18,
     "metadata": {},
     "output_type": "execute_result"
    }
   ],
   "source": [
    "(ggplot(dataset,aes('Likes','Retweets'))\n",
    " + geom_point()\n",
    " + theme_light()\n",
    ")"
   ]
  },
  {
   "cell_type": "code",
   "execution_count": 19,
   "metadata": {
    "scrolled": true
   },
   "outputs": [
    {
     "data": {
      "text/html": [
       "<div>\n",
       "<style scoped>\n",
       "    .dataframe tbody tr th:only-of-type {\n",
       "        vertical-align: middle;\n",
       "    }\n",
       "\n",
       "    .dataframe tbody tr th {\n",
       "        vertical-align: top;\n",
       "    }\n",
       "\n",
       "    .dataframe thead th {\n",
       "        text-align: right;\n",
       "    }\n",
       "</style>\n",
       "<table border=\"1\" class=\"dataframe\">\n",
       "  <thead>\n",
       "    <tr style=\"text-align: right;\">\n",
       "      <th></th>\n",
       "      <th>Username</th>\n",
       "      <th>Handle</th>\n",
       "      <th>Timestamp</th>\n",
       "      <th>Comments</th>\n",
       "      <th>Likes</th>\n",
       "      <th>Retweets</th>\n",
       "      <th>Text</th>\n",
       "    </tr>\n",
       "  </thead>\n",
       "  <tbody>\n",
       "    <tr>\n",
       "      <th>0</th>\n",
       "      <td>CAPITÃO CAVERNA</td>\n",
       "      <td>@MarcosPimt</td>\n",
       "      <td>2021-12-06T18:37:59.000Z</td>\n",
       "      <td>CAPITÃO CAVERNAEm resposta a \\n@lfcarr\\n e \\n@...</td>\n",
       "      <td>2</td>\n",
       "      <td>0</td>\n",
       "      <td>NaN</td>\n",
       "    </tr>\n",
       "    <tr>\n",
       "      <th>1</th>\n",
       "      <td>carlos pierre</td>\n",
       "      <td>@carlospgoliv</td>\n",
       "      <td>2021-12-06T18:25:19.000Z</td>\n",
       "      <td>carlos pierreEm resposta a \\n@judepaulla1</td>\n",
       "      <td>0</td>\n",
       "      <td>0</td>\n",
       "      <td>NaN</td>\n",
       "    </tr>\n",
       "    <tr>\n",
       "      <th>2</th>\n",
       "      <td>#BrasilRepublicaPresidencialista</td>\n",
       "      <td>@Keila31177845</td>\n",
       "      <td>2021-12-06T18:00:28.000Z</td>\n",
       "      <td>#BrasilRepublicaPresidencialistaEm resposta a ...</td>\n",
       "      <td>0</td>\n",
       "      <td>0</td>\n",
       "      <td>NaN</td>\n",
       "    </tr>\n",
       "    <tr>\n",
       "      <th>3</th>\n",
       "      <td>Projeto Circular</td>\n",
       "      <td>@circularbelem</td>\n",
       "      <td>2021-12-06T17:58:12.000Z</td>\n",
       "      <td>Projeto CircularO Centro Histórico de Belém na...</td>\n",
       "      <td>1</td>\n",
       "      <td>0</td>\n",
       "      <td>8.0</td>\n",
       "    </tr>\n",
       "    <tr>\n",
       "      <th>4</th>\n",
       "      <td>Cnc76 Macho Alpha!!!</td>\n",
       "      <td>@Cnc712</td>\n",
       "      <td>2021-12-06T17:48:58.000Z</td>\n",
       "      <td>Cnc76 Macho Alpha!!!Em resposta a \\n@zeliaduncan</td>\n",
       "      <td>0</td>\n",
       "      <td>0</td>\n",
       "      <td>NaN</td>\n",
       "    </tr>\n",
       "    <tr>\n",
       "      <th>...</th>\n",
       "      <td>...</td>\n",
       "      <td>...</td>\n",
       "      <td>...</td>\n",
       "      <td>...</td>\n",
       "      <td>...</td>\n",
       "      <td>...</td>\n",
       "      <td>...</td>\n",
       "    </tr>\n",
       "    <tr>\n",
       "      <th>2283</th>\n",
       "      <td>vandecarlos lopes</td>\n",
       "      <td>@carloslopes1956</td>\n",
       "      <td>2021-11-13T11:09:32.000Z</td>\n",
       "      <td>vandecarlos lopesA corrupção da lei rouanet e ...</td>\n",
       "      <td>0</td>\n",
       "      <td>0</td>\n",
       "      <td>NaN</td>\n",
       "    </tr>\n",
       "    <tr>\n",
       "      <th>2284</th>\n",
       "      <td>Otavio Bedinelli</td>\n",
       "      <td>@OtavioBedinelli</td>\n",
       "      <td>2021-11-13T10:39:34.000Z</td>\n",
       "      <td>Otavio BedinelliEm resposta a \\n@taoquei1</td>\n",
       "      <td>0</td>\n",
       "      <td>0</td>\n",
       "      <td>NaN</td>\n",
       "    </tr>\n",
       "    <tr>\n",
       "      <th>2285</th>\n",
       "      <td>Kinkas Castro</td>\n",
       "      <td>@KinkasCastro</td>\n",
       "      <td>2021-11-13T10:29:39.000Z</td>\n",
       "      <td>Kinkas CastroEm resposta a \\n@katiaduarte\\n @b...</td>\n",
       "      <td>1</td>\n",
       "      <td>1</td>\n",
       "      <td>3.0</td>\n",
       "    </tr>\n",
       "    <tr>\n",
       "      <th>2286</th>\n",
       "      <td>Conservador , Cristão</td>\n",
       "      <td>@BiraFratucello2</td>\n",
       "      <td>2021-11-13T10:14:14.000Z</td>\n",
       "      <td>Conservador , CristãoTudo que beneficiava a va...</td>\n",
       "      <td>0</td>\n",
       "      <td>1</td>\n",
       "      <td>1.0</td>\n",
       "    </tr>\n",
       "    <tr>\n",
       "      <th>2287</th>\n",
       "      <td>Pedro M Lelis</td>\n",
       "      <td>@pmlelis1951</td>\n",
       "      <td>2021-11-13T10:11:54.000Z</td>\n",
       "      <td>Pedro M LelisVAI VENDO BRASIL!!!\\nEnquanto o d...</td>\n",
       "      <td>0</td>\n",
       "      <td>0</td>\n",
       "      <td>NaN</td>\n",
       "    </tr>\n",
       "  </tbody>\n",
       "</table>\n",
       "<p>2288 rows × 7 columns</p>\n",
       "</div>"
      ],
      "text/plain": [
       "                              Username            Handle  \\\n",
       "0                      CAPITÃO CAVERNA       @MarcosPimt   \n",
       "1                        carlos pierre     @carlospgoliv   \n",
       "2     #BrasilRepublicaPresidencialista    @Keila31177845   \n",
       "3                     Projeto Circular    @circularbelem   \n",
       "4                 Cnc76 Macho Alpha!!!           @Cnc712   \n",
       "...                                ...               ...   \n",
       "2283                 vandecarlos lopes  @carloslopes1956   \n",
       "2284                  Otavio Bedinelli  @OtavioBedinelli   \n",
       "2285                     Kinkas Castro     @KinkasCastro   \n",
       "2286             Conservador , Cristão  @BiraFratucello2   \n",
       "2287                     Pedro M Lelis      @pmlelis1951   \n",
       "\n",
       "                     Timestamp  \\\n",
       "0     2021-12-06T18:37:59.000Z   \n",
       "1     2021-12-06T18:25:19.000Z   \n",
       "2     2021-12-06T18:00:28.000Z   \n",
       "3     2021-12-06T17:58:12.000Z   \n",
       "4     2021-12-06T17:48:58.000Z   \n",
       "...                        ...   \n",
       "2283  2021-11-13T11:09:32.000Z   \n",
       "2284  2021-11-13T10:39:34.000Z   \n",
       "2285  2021-11-13T10:29:39.000Z   \n",
       "2286  2021-11-13T10:14:14.000Z   \n",
       "2287  2021-11-13T10:11:54.000Z   \n",
       "\n",
       "                                               Comments  Likes  Retweets  Text  \n",
       "0     CAPITÃO CAVERNAEm resposta a \\n@lfcarr\\n e \\n@...      2         0   NaN  \n",
       "1             carlos pierreEm resposta a \\n@judepaulla1      0         0   NaN  \n",
       "2     #BrasilRepublicaPresidencialistaEm resposta a ...      0         0   NaN  \n",
       "3     Projeto CircularO Centro Histórico de Belém na...      1         0   8.0  \n",
       "4      Cnc76 Macho Alpha!!!Em resposta a \\n@zeliaduncan      0         0   NaN  \n",
       "...                                                 ...    ...       ...   ...  \n",
       "2283  vandecarlos lopesA corrupção da lei rouanet e ...      0         0   NaN  \n",
       "2284          Otavio BedinelliEm resposta a \\n@taoquei1      0         0   NaN  \n",
       "2285  Kinkas CastroEm resposta a \\n@katiaduarte\\n @b...      1         1   3.0  \n",
       "2286  Conservador , CristãoTudo que beneficiava a va...      0         1   1.0  \n",
       "2287  Pedro M LelisVAI VENDO BRASIL!!!\\nEnquanto o d...      0         0   NaN  \n",
       "\n",
       "[2288 rows x 7 columns]"
      ]
     },
     "execution_count": 19,
     "metadata": {},
     "output_type": "execute_result"
    }
   ],
   "source": [
    "# Faremos uma cópia desse DF visto que ele será permutado\n",
    "df_shuffle = dataset.copy()\n",
    "df_shuffle "
   ]
  },
  {
   "cell_type": "code",
   "execution_count": 20,
   "metadata": {},
   "outputs": [
    {
     "name": "stdout",
     "output_type": "stream",
     "text": [
      "<class 'pandas.core.frame.DataFrame'>\n",
      "RangeIndex: 2288 entries, 0 to 2287\n",
      "Data columns (total 7 columns):\n",
      " #   Column     Non-Null Count  Dtype  \n",
      "---  ------     --------------  -----  \n",
      " 0   Username   2281 non-null   object \n",
      " 1   Handle     2286 non-null   object \n",
      " 2   Timestamp  2288 non-null   object \n",
      " 3   Comments   2288 non-null   object \n",
      " 4   Likes      2288 non-null   int32  \n",
      " 5   Retweets   2288 non-null   int32  \n",
      " 6   Text       1070 non-null   float64\n",
      "dtypes: float64(1), int32(2), object(4)\n",
      "memory usage: 107.4+ KB\n"
     ]
    }
   ],
   "source": [
    "df_shuffle.info()"
   ]
  },
  {
   "cell_type": "markdown",
   "metadata": {},
   "source": [
    "### Gradiente Descendente Covencional"
   ]
  },
  {
   "cell_type": "raw",
   "metadata": {},
   "source": [
    "Implementação Enconrada na Literatura "
   ]
  },
  {
   "cell_type": "code",
   "execution_count": 21,
   "metadata": {},
   "outputs": [],
   "source": [
    "w0 = 10 # termo independente\n",
    "w1 = 20 # coeficiente angular\n",
    "alfa = 0.001 # Taxa de aprendizado\n",
    "EQM = list() # Erro Quadrado Médio por época\n",
    "\n",
    "# GRADIENTE DESCENDENTE\n",
    "for epoca in range(500):\n",
    "    acc = 0\n",
    "    erro = 0\n",
    "    sumw0 = 0\n",
    "    sumw1 = 0\n",
    "    for i in range(len(dataset)):\n",
    "        x_i = dataset.iloc[i,4]\n",
    "        y_i = dataset.iloc[i,5]\n",
    "        erro = (y_i - w1*x_i - w0)\n",
    "        sumw0 += (y_i - w1*x_i - w0)\n",
    "        sumw1 += (y_i - w1*x_i - w0)*df_shuffle.iloc[i,4]\n",
    "        acc = acc + erro*erro\n",
    "       \n",
    "    w0 = w0 + (alfa*sumw0)/len(df_shuffle)\n",
    "    w1 = w1 + (alfa*sumw1)/len(df_shuffle)\n",
    "       \n",
    "    EQM.append(acc/len(df_shuffle))\n"
   ]
  },
  {
   "cell_type": "markdown",
   "metadata": {},
   "source": [
    "### Predição"
   ]
  },
  {
   "cell_type": "code",
   "execution_count": 22,
   "metadata": {},
   "outputs": [
    {
     "name": "stdout",
     "output_type": "stream",
     "text": [
      "Os pesos encontrados foram 6.254353075970502 e 4.591762913880748\n"
     ]
    }
   ],
   "source": [
    "print(\"Os pesos encontrados foram\", w0, \"e\", w1)"
   ]
  },
  {
   "cell_type": "code",
   "execution_count": 23,
   "metadata": {
    "scrolled": true
   },
   "outputs": [
    {
     "data": {
      "image/png": "[encoded data removed]",
      "text/plain": [
       "<Figure size 640x480 with 1 Axes>"
      ]
     },
     "metadata": {},
     "output_type": "display_data"
    },
    {
     "data": {
      "text/plain": [
       "<ggplot: (150819348898)>"
      ]
     },
     "execution_count": 23,
     "metadata": {},
     "output_type": "execute_result"
    }
   ],
   "source": [
    "(ggplot(dataset,aes('Likes','Retweets'))\n",
    " + geom_point()\n",
    " + theme_light()\n",
    " + geom_abline(intercept=w0 , slope=w1, color='red')\n",
    ")"
   ]
  },
  {
   "cell_type": "code",
   "execution_count": 24,
   "metadata": {},
   "outputs": [],
   "source": [
    "def predict_(w0,w1,x):\n",
    "    y = w1*x + w0\n",
    "    return y"
   ]
  },
  {
   "cell_type": "code",
   "execution_count": 25,
   "metadata": {},
   "outputs": [
    {
     "data": {
      "text/plain": [
       "11.994056718321438"
      ]
     },
     "execution_count": 25,
     "metadata": {},
     "output_type": "execute_result"
    }
   ],
   "source": [
    "predict_(w0,w1,1.25)"
   ]
  },
  {
   "cell_type": "markdown",
   "metadata": {},
   "source": [
    "### Curva de aprendizado"
   ]
  },
  {
   "cell_type": "code",
   "execution_count": 26,
   "metadata": {
    "scrolled": true
   },
   "outputs": [
    {
     "data": {
      "text/html": [
       "<div>\n",
       "<style scoped>\n",
       "    .dataframe tbody tr th:only-of-type {\n",
       "        vertical-align: middle;\n",
       "    }\n",
       "\n",
       "    .dataframe tbody tr th {\n",
       "        vertical-align: top;\n",
       "    }\n",
       "\n",
       "    .dataframe thead th {\n",
       "        text-align: right;\n",
       "    }\n",
       "</style>\n",
       "<table border=\"1\" class=\"dataframe\">\n",
       "  <thead>\n",
       "    <tr style=\"text-align: right;\">\n",
       "      <th></th>\n",
       "      <th>0</th>\n",
       "    </tr>\n",
       "  </thead>\n",
       "  <tbody>\n",
       "    <tr>\n",
       "      <th>0</th>\n",
       "      <td>83071.885490</td>\n",
       "    </tr>\n",
       "    <tr>\n",
       "      <th>1</th>\n",
       "      <td>38105.561009</td>\n",
       "    </tr>\n",
       "    <tr>\n",
       "      <th>2</th>\n",
       "      <td>18340.079011</td>\n",
       "    </tr>\n",
       "    <tr>\n",
       "      <th>3</th>\n",
       "      <td>9651.873134</td>\n",
       "    </tr>\n",
       "    <tr>\n",
       "      <th>4</th>\n",
       "      <td>5832.792129</td>\n",
       "    </tr>\n",
       "    <tr>\n",
       "      <th>...</th>\n",
       "      <td>...</td>\n",
       "    </tr>\n",
       "    <tr>\n",
       "      <th>495</th>\n",
       "      <td>2784.056972</td>\n",
       "    </tr>\n",
       "    <tr>\n",
       "      <th>496</th>\n",
       "      <td>2783.992535</td>\n",
       "    </tr>\n",
       "    <tr>\n",
       "      <th>497</th>\n",
       "      <td>2783.928224</td>\n",
       "    </tr>\n",
       "    <tr>\n",
       "      <th>498</th>\n",
       "      <td>2783.864041</td>\n",
       "    </tr>\n",
       "    <tr>\n",
       "      <th>499</th>\n",
       "      <td>2783.799985</td>\n",
       "    </tr>\n",
       "  </tbody>\n",
       "</table>\n",
       "<p>500 rows × 1 columns</p>\n",
       "</div>"
      ],
      "text/plain": [
       "                0\n",
       "0    83071.885490\n",
       "1    38105.561009\n",
       "2    18340.079011\n",
       "3     9651.873134\n",
       "4     5832.792129\n",
       "..            ...\n",
       "495   2784.056972\n",
       "496   2783.992535\n",
       "497   2783.928224\n",
       "498   2783.864041\n",
       "499   2783.799985\n",
       "\n",
       "[500 rows x 1 columns]"
      ]
     },
     "execution_count": 26,
     "metadata": {},
     "output_type": "execute_result"
    }
   ],
   "source": [
    "# Convertendo lista em DataFrame para plotar no PlotNine\n",
    "EQM_df = pd.DataFrame(EQM)\n",
    "EQM_df"
   ]
  },
  {
   "cell_type": "code",
   "execution_count": 27,
   "metadata": {},
   "outputs": [
    {
     "data": {
      "image/png": "[encoded data removed]",
      "text/plain": [
       "<Figure size 640x480 with 1 Axes>"
      ]
     },
     "metadata": {},
     "output_type": "display_data"
    },
    {
     "data": {
      "text/plain": [
       "<ggplot: (150819303118)>"
      ]
     },
     "execution_count": 27,
     "metadata": {},
     "output_type": "execute_result"
    }
   ],
   "source": [
    "(ggplot(EQM_df, aes(EQM_df.index, EQM_df[0]))\n",
    "+ geom_line()\n",
    "+ xlab('Época')\n",
    "+ ylab('EQM')\n",
    ")"
   ]
  },
  {
   "cell_type": "raw",
   "metadata": {},
   "source": [
    "https://scikit-learn.org/stable/modules/generated/sklearn.linear_model.LinearRegression.html"
   ]
  },
  {
   "cell_type": "code",
   "execution_count": null,
   "metadata": {},
   "outputs": [],
   "source": [
    "from sklearn.linear_model import LinearRegression"
   ]
  },
  {
   "cell_type": "code",
   "execution_count": null,
   "metadata": {},
   "outputs": [],
   "source": [
    "X = df[['Altura']]\n",
    "y = df['Comprimento']"
   ]
  },
  {
   "cell_type": "code",
   "execution_count": null,
   "metadata": {},
   "outputs": [],
   "source": [
    "modelskl = LinearRegression()"
   ]
  },
  {
   "cell_type": "code",
   "execution_count": null,
   "metadata": {
    "scrolled": true
   },
   "outputs": [],
   "source": [
    "modelskl.fit(X,y)"
   ]
  },
  {
   "cell_type": "code",
   "execution_count": null,
   "metadata": {
    "scrolled": true
   },
   "outputs": [],
   "source": [
    "modelskl.coef_"
   ]
  },
  {
   "cell_type": "code",
   "execution_count": null,
   "metadata": {},
   "outputs": [],
   "source": [
    "modelskl.intercept_"
   ]
  },
  {
   "cell_type": "code",
   "execution_count": null,
   "metadata": {
    "scrolled": true
   },
   "outputs": [],
   "source": [
    "(ggplot(df,aes('Altura','Comprimento'))\n",
    " + geom_point()\n",
    " + theme_light()\n",
    " + geom_abline(intercept=modelskl.intercept_ , slope=modelskl.coef_[0], color='red')\n",
    ")"
   ]
  },
  {
   "cell_type": "code",
   "execution_count": null,
   "metadata": {
    "scrolled": true
   },
   "outputs": [],
   "source": [
    "modelskl.predict([[1.25]])"
   ]
  }
 ],
 "metadata": {
  "kernelspec": {
   "display_name": "Python 3 (ipykernel)",
   "language": "python",
   "name": "python3"
  },
  "language_info": {
   "codemirror_mode": {
    "name": "ipython",
    "version": 3
   },
   "file_extension": ".py",
   "mimetype": "text/x-python",
   "name": "python",
   "nbconvert_exporter": "python",
   "pygments_lexer": "ipython3",
   "version": "3.9.7"
  }
 },
 "nbformat": 4,
 "nbformat_minor": 4
}
